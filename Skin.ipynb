{
  "nbformat": 4,
  "nbformat_minor": 0,
  "metadata": {
    "colab": {
      "name": "Skin.ipynb",
      "provenance": [],
      "collapsed_sections": [],
      "mount_file_id": "1k1e924hpyI9Rjbyv3n1Cez5pZ1AbE-ng",
      "authorship_tag": "ABX9TyNuROP5opCjHJo4rBIpXpxW",
      "include_colab_link": true
    },
    "kernelspec": {
      "name": "python3",
      "display_name": "Python 3"
    },
    "language_info": {
      "name": "python"
    },
    "accelerator": "GPU"
  },
  "cells": [
    {
      "cell_type": "markdown",
      "metadata": {
        "id": "view-in-github",
        "colab_type": "text"
      },
      "source": [
        "<a href=\"https://colab.research.google.com/github/onyekaokonji/Skin-Cancer-Detection/blob/main/Skin.ipynb\" target=\"_parent\"><img src=\"https://colab.research.google.com/assets/colab-badge.svg\" alt=\"Open In Colab\"/></a>"
      ]
    },
    {
      "cell_type": "markdown",
      "metadata": {
        "id": "1sGAedlfsU9Z"
      },
      "source": [
        "# Importing libraries\n"
      ]
    },
    {
      "cell_type": "code",
      "metadata": {
        "id": "gv_XIuVYNuxI"
      },
      "source": [
        "import tensorflow as tf\n",
        "from tensorflow.keras.models import Model\n",
        "from tensorflow.keras.layers import Conv2D, MaxPooling2D, Dropout, Dense, Input, Flatten\n",
        "from tensorflow.keras.initializers import RandomNormal\n",
        "import numpy as np\n",
        "from sklearn.metrics import *\n",
        "import matplotlib.pyplot as plt"
      ],
      "execution_count": null,
      "outputs": []
    },
    {
      "cell_type": "markdown",
      "metadata": {
        "id": "Fkk-2qH-seL8"
      },
      "source": [
        "## Loading dataset"
      ]
    },
    {
      "cell_type": "code",
      "metadata": {
        "id": "WTJtzUEEsTzq"
      },
      "source": [
        "train_dir = '/content/drive/MyDrive/data/train'\n",
        "test_dir = \"/content/drive/MyDrive/data/valid\"\n",
        "valid_dir = \"/content/drive/MyDrive/data/test\"\n",
        "\n",
        "train_data = tf.keras.preprocessing.image_dataset_from_directory(directory=train_dir, labels='inferred', image_size=(160, 160), label_mode='categorical', batch_size=64)\n",
        "test_data = tf.keras.preprocessing.image_dataset_from_directory(directory=test_dir, labels='inferred', image_size=(160, 160), label_mode='categorical')\n",
        "valid_data = tf.keras.preprocessing.image_dataset_from_directory(directory=valid_dir, labels='inferred', image_size=(160, 160), label_mode='categorical', batch_size=10)"
      ],
      "execution_count": null,
      "outputs": []
    },
    {
      "cell_type": "code",
      "metadata": {
        "id": "LGkyvWPbP5_S"
      },
      "source": [
        "train_class_names = train_data.class_names\n",
        "print(train_class_names)\n",
        "\n",
        "valid_class_names = valid_data.class_names\n",
        "print(valid_class_names)\n",
        "\n",
        "test_class_names = test_data.class_names\n",
        "print(test_class_names)"
      ],
      "execution_count": null,
      "outputs": []
    },
    {
      "cell_type": "code",
      "metadata": {
        "id": "yZAUYmVOVD0P"
      },
      "source": [
        "normalization_layer = tf.keras.layers.Rescaling(scale= 1./255., offset=0.0)\n",
        "normalized_train_data = train_data.map(lambda x, y: (normalization_layer(x), y))\n",
        "\n",
        "rotation_layer = tf.keras.layers.RandomRotation(factor=0.3, fill_mode='reflect', interpolation='bilinear', seed=None, fill_value=0.0)\n",
        "rotated_train_data = train_data.map(lambda x, y: (rotation_layer(x), y))\n",
        "\n",
        "flip_layer = tf.keras.layers.RandomFlip(mode='horizontal_and_vertical', seed=None)\n",
        "flipped_train_data = train_data.map(lambda x,y: (flip_layer(x), y))"
      ],
      "execution_count": null,
      "outputs": []
    },
    {
      "cell_type": "code",
      "metadata": {
        "id": "whhgiTSuZZox"
      },
      "source": [
        "AUTOTUNE = tf.data.AUTOTUNE\n",
        "\n",
        "train_data = train_data.cache().prefetch(buffer_size=AUTOTUNE)\n",
        "valid_data = valid_data.cache().prefetch(buffer_size=AUTOTUNE)"
      ],
      "execution_count": null,
      "outputs": []
    },
    {
      "cell_type": "code",
      "metadata": {
        "id": "8ia4Q6ycgKkc"
      },
      "source": [
        "print(train_data)\n",
        "print(valid_data)"
      ],
      "execution_count": null,
      "outputs": []
    },
    {
      "cell_type": "markdown",
      "metadata": {
        "id": "XVgChovQZ8cH"
      },
      "source": [
        "## Model construction"
      ]
    },
    {
      "cell_type": "code",
      "metadata": {
        "id": "y9YPNi0Ngt02"
      },
      "source": [
        "input = Input(shape = (160, 160, 3))\n",
        "conv1 = Conv2D(filters=16, kernel_size=(3,3), strides=1, padding='same', activation='relu', kernel_initializer='random_normal')(input)\n",
        "conv2 = Conv2D(filters=16, kernel_size=(1,1), strides=1, padding='same', activation='relu', kernel_initializer='random_normal')(conv1)\n",
        "conv3 = Conv2D(filters=32, kernel_size=(3,3), strides=1, padding='same', activation='relu', kernel_initializer='random_normal')(conv2)\n",
        "conv4 = Conv2D(filters=32, kernel_size=(1,1), strides=1, padding='same', activation='relu', kernel_initializer='random_normal')(conv3)\n",
        "pool1 = MaxPooling2D(pool_size=(2,2))(conv4)\n",
        "conv5 = Conv2D(filters=64, kernel_size=(3,3), strides=1, padding='same', activation='relu', kernel_initializer='random_normal')(pool1)\n",
        "conv6 = Conv2D(filters=64, kernel_size=(1,1), strides=1, padding='same', activation='relu', kernel_initializer='random_normal')(conv5)\n",
        "flatten = Flatten()(conv6)\n",
        "fc1 = Dense(units = 100, activation='relu', kernel_initializer='random_normal')(flatten)\n",
        "dropout1 = Dropout(rate=0.3)(fc1)\n",
        "fc2 = Dense(units= 50, activation='relu', kernel_initializer='random_normal')(dropout1)\n",
        "output = Dense(units=3, activation='softmax', kernel_initializer='random_normal')(fc2)\n",
        "\n",
        "model = Model(inputs=input, outputs =output)\n",
        "model.summary()"
      ],
      "execution_count": null,
      "outputs": []
    },
    {
      "cell_type": "code",
      "metadata": {
        "id": "-afuc1HNDpQ0"
      },
      "source": [
        "model.compile(optimizer = 'adam', loss= 'categorical_crossentropy', metrics=['Accuracy'])"
      ],
      "execution_count": null,
      "outputs": []
    },
    {
      "cell_type": "code",
      "metadata": {
        "id": "3nf-om7UERqz"
      },
      "source": [
        "model.fit(x=train_data, epochs= 50, validation_data=valid_data, validation_steps=10)"
      ],
      "execution_count": null,
      "outputs": []
    },
    {
      "cell_type": "code",
      "metadata": {
        "id": "KDl_TudMAV77"
      },
      "source": [
        "# Obtaining predicted and true labels\n",
        "\n",
        "y_true = []\n",
        "y_pred = []\n",
        "\n",
        "for image_batch, label_batch in test_data:\n",
        "  y_true.append(label_batch)\n",
        "  pred = model.predict(image_batch)\n",
        "  y_pred.append(pred)\n",
        "\n",
        "true_labels = tf.concat([item for item in y_true], axis = 0)\n",
        "predicted_labels = tf.concat([item for item in y_pred], axis = 0)"
      ],
      "execution_count": null,
      "outputs": []
    },
    {
      "cell_type": "code",
      "metadata": {
        "id": "2WGgtWPcoAHV"
      },
      "source": [
        "true_labels = np.argmax(true_labels, axis= 1)\n",
        "print(true_labels)"
      ],
      "execution_count": null,
      "outputs": []
    },
    {
      "cell_type": "code",
      "metadata": {
        "id": "vvTRhO9SoDUI"
      },
      "source": [
        "predicted_labels = np.argmax(predicted_labels, axis=1)\n",
        "print(predicted_labels)"
      ],
      "execution_count": null,
      "outputs": []
    },
    {
      "cell_type": "code",
      "metadata": {
        "id": "I-U_BQaIpcmS"
      },
      "source": [
        "cm = confusion_matrix(true_labels, predicted_labels, labels = [0,1,2])\n",
        "cm"
      ],
      "execution_count": null,
      "outputs": []
    },
    {
      "cell_type": "code",
      "metadata": {
        "id": "jFZTYZcEqQ2P"
      },
      "source": [
        "# Displaying Confusion Matrix\n",
        "def plot_confusion_matrix(cm, classes,\n",
        "                          normalize=True,\n",
        "                          title='Confusion matrix',\n",
        "                          cmap=plt.cm.Blues):\n",
        "    \"\"\"\n",
        "    This function prints and plots the confusion matrix.\n",
        "    Normalization can be applied by setting `normalize=True`.\n",
        "    \"\"\"\n",
        "    import itertools\n",
        "    if normalize:\n",
        "        cm = cm.astype('float') / cm.sum(axis=1)[:, np.newaxis]\n",
        "        print(\"Normalized confusion matrix\")\n",
        "    else:\n",
        "        print('Confusion matrix, without normalization')\n",
        "\n",
        "    print(cm)\n",
        "\n",
        "    plt.imshow(cm, interpolation='nearest', cmap=cmap)\n",
        "    plt.title(title)\n",
        "    plt.colorbar()\n",
        "    tick_marks = np.arange(len(classes))\n",
        "    plt.xticks(tick_marks, classes, rotation=45)\n",
        "    plt.yticks(tick_marks, classes)\n",
        "\n",
        "    fmt = '.2f' if normalize else 'd'\n",
        "    thresh = cm.max() / 2.\n",
        "    for i, j in itertools.product(range(cm.shape[0]), range(cm.shape[1])):\n",
        "        plt.text(j, i, format(cm[i, j], fmt),\n",
        "                 horizontalalignment=\"center\",\n",
        "                 color=\"white\" if cm[i, j] > thresh else \"black\")\n",
        "\n",
        "    plt.ylabel('True label')\n",
        "    plt.xlabel('Predicted label')\n",
        "    plt.tight_layout()\n",
        "\n",
        "\n",
        "plt.figure(figsize=(12,8))\n",
        "plot_confusion_matrix(cm, classes=['Melanoma', 'Nevus', 'Seborrheic Keratosis'], title='Confusion matrix, normalization')"
      ],
      "execution_count": null,
      "outputs": []
    },
    {
      "cell_type": "code",
      "metadata": {
        "id": "Ls2xVu8Bq17-"
      },
      "source": [
        "print(classification_report(predicted_labels, true_labels, target_names=['Melanoma', 'Nevus', 'Seborrheic Keratosis']))"
      ],
      "execution_count": null,
      "outputs": []
    },
    {
      "cell_type": "code",
      "metadata": {
        "id": "3J47TdPrrcYM"
      },
      "source": [
        "accuracy = accuracy_score(predicted_labels, true_labels, normalize=True)\n",
        "print(accuracy)"
      ],
      "execution_count": null,
      "outputs": []
    }
  ]
}